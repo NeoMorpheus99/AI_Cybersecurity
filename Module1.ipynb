{
  "nbformat": 4,
  "nbformat_minor": 0,
  "metadata": {
    "colab": {
      "provenance": [],
      "mount_file_id": "1cDsGJXykQ_6oL91kheXxoqJpMNseT_wE",
      "authorship_tag": "ABX9TyN+2GJq0eCXw1Deo0K9o9zI",
      "include_colab_link": true
    },
    "kernelspec": {
      "name": "python3",
      "display_name": "Python 3"
    },
    "language_info": {
      "name": "python"
    }
  },
  "cells": [
    {
      "cell_type": "markdown",
      "metadata": {
        "id": "view-in-github",
        "colab_type": "text"
      },
      "source": [
        "<a href=\"https://colab.research.google.com/github/NeoMorpheus99/AI_Cybersecurity/blob/main/Module1.ipynb\" target=\"_parent\"><img src=\"https://colab.research.google.com/assets/colab-badge.svg\" alt=\"Open In Colab\"/></a>"
      ]
    },
    {
      "cell_type": "markdown",
      "source": [
        "# AI in cyberSecurity\n",
        "Sample code for using AI in cybersecurity"
      ],
      "metadata": {
        "id": "8EhSyFdbNfcH"
      }
    },
    {
      "cell_type": "code",
      "execution_count": null,
      "metadata": {
        "id": "6uzZ53caND1t",
        "colab": {
          "base_uri": "https://localhost:8080/"
        },
        "outputId": "7e4162a0-723a-4322-8f50-dbc6f36254fa"
      },
      "outputs": [
        {
          "output_type": "stream",
          "name": "stdout",
          "text": [
            "Mounted at /content/drive\n"
          ]
        }
      ],
      "source": [
        "from google.colab import drive\n",
        "drive.mount('/content/drive')"
      ]
    },
    {
      "cell_type": "code",
      "source": [
        "%cd /content/drive/MyDrive/Colab Notebooks"
      ],
      "metadata": {
        "colab": {
          "base_uri": "https://localhost:8080/"
        },
        "id": "n-E7-Hv8PBku",
        "outputId": "2d1f4260-3ecd-4523-c24f-cba609a7eda9"
      },
      "execution_count": null,
      "outputs": [
        {
          "output_type": "stream",
          "name": "stdout",
          "text": [
            "/content/drive/MyDrive/Colab Notebooks\n"
          ]
        }
      ]
    },
    {
      "cell_type": "code",
      "source": [
        "import pandas as pd\n",
        "from sklearn.model_selection import train_test_split\n"
      ],
      "metadata": {
        "id": "ZUq9SPjXPcOY"
      },
      "execution_count": null,
      "outputs": []
    },
    {
      "cell_type": "code",
      "source": [
        "df = pd.read_csv(\"north_korea_missile_test_database.csv\")"
      ],
      "metadata": {
        "id": "_5IUyUzvQRlk"
      },
      "execution_count": null,
      "outputs": []
    },
    {
      "cell_type": "code",
      "source": [
        "df.head()"
      ],
      "metadata": {
        "colab": {
          "base_uri": "https://localhost:8080/",
          "height": 608
        },
        "id": "M6xI7xCMQiar",
        "outputId": "37bacc18-f89a-4402-924d-9a6107eda650"
      },
      "execution_count": null,
      "outputs": [
        {
          "output_type": "execute_result",
          "data": {
            "text/plain": [
              "   F1      Date Date Entered/Updated Launch Time (UTC) Missile Name  \\\n",
              "0   1  9-Apr-84            23-Dec-16               NaN       Scud-B   \n",
              "1   2  9-Apr-84            23-Dec-16               NaN       Scud-B   \n",
              "2   3  9-Apr-84            23-Dec-16               NaN       Scud-B   \n",
              "3   4    Sep-84            23-Dec-16               NaN       Scud-B   \n",
              "4   5    Sep-84            23-Dec-16               NaN       Scud-B   \n",
              "\n",
              "  Missile Type Launch Agency/Authority                       Facility Name  \\\n",
              "0         SRBM                     NaN  Tonghae Satellite Launching Ground   \n",
              "1         SRBM                     NaN  Tonghae Satellite Launching Ground   \n",
              "2         SRBM                     NaN  Tonghae Satellite Launching Ground   \n",
              "3         SRBM                     NaN  Tonghae Satellite Launching Ground   \n",
              "4         SRBM                     NaN  Tonghae Satellite Launching Ground   \n",
              "\n",
              "                        Facility Location  Other Name Facility Latitude  \\\n",
              "0  Hwadae County, North Hamgyong Province  Musudan-ri        40.8499966   \n",
              "1  Hwadae County, North Hamgyong Province  Musudan-ri        40.8499966   \n",
              "2  Hwadae County, North Hamgyong Province  Musudan-ri        40.8499966   \n",
              "3  Hwadae County, North Hamgyong Province  Musudan-ri        40.8499966   \n",
              "4  Hwadae County, North Hamgyong Province  Musudan-ri        40.8499966   \n",
              "\n",
              "  Facility Longitude Landing Location   Apogee Distance Travelled  \\\n",
              "0         129.666664          Unknown  Unknown            Unknown   \n",
              "1         129.666664          Unknown  Unknown            Unknown   \n",
              "2         129.666664          Unknown   200 km            Unknown   \n",
              "3         129.666664          Unknown  Unknown            Unknown   \n",
              "4         129.666664          Unknown   200 km            Unknown   \n",
              "\n",
              "  Confirmation Status Test Outcome  \\\n",
              "0           Confirmed      Success   \n",
              "1           Confirmed      Success   \n",
              "2           Confirmed      Success   \n",
              "3           Confirmed      Failure   \n",
              "4           Confirmed      Failure   \n",
              "\n",
              "                              Additional Information  \\\n",
              "0  First known test by North Korea of a missile w...   \n",
              "1                                                NaN   \n",
              "2                                                NaN   \n",
              "3                                                NaN   \n",
              "4                                                NaN   \n",
              "\n",
              "                                           Source(s)  \n",
              "0  http://www.nti.org/media/pdfs/north_korea_miss...  \n",
              "1  http://www.nti.org/media/pdfs/north_korea_miss...  \n",
              "2  http://www.astronautix.com/g/gitdaeryung.html;...  \n",
              "3  Joseph S. Bermudez, \"A History of Ballistic Mi...  \n",
              "4  http://www.astronautix.com/g/gitdaeryung.html;...  "
            ],
            "text/html": [
              "\n",
              "  <div id=\"df-0a089134-e614-44d4-926f-350c82f2f288\" class=\"colab-df-container\">\n",
              "    <div>\n",
              "<style scoped>\n",
              "    .dataframe tbody tr th:only-of-type {\n",
              "        vertical-align: middle;\n",
              "    }\n",
              "\n",
              "    .dataframe tbody tr th {\n",
              "        vertical-align: top;\n",
              "    }\n",
              "\n",
              "    .dataframe thead th {\n",
              "        text-align: right;\n",
              "    }\n",
              "</style>\n",
              "<table border=\"1\" class=\"dataframe\">\n",
              "  <thead>\n",
              "    <tr style=\"text-align: right;\">\n",
              "      <th></th>\n",
              "      <th>F1</th>\n",
              "      <th>Date</th>\n",
              "      <th>Date Entered/Updated</th>\n",
              "      <th>Launch Time (UTC)</th>\n",
              "      <th>Missile Name</th>\n",
              "      <th>Missile Type</th>\n",
              "      <th>Launch Agency/Authority</th>\n",
              "      <th>Facility Name</th>\n",
              "      <th>Facility Location</th>\n",
              "      <th>Other Name</th>\n",
              "      <th>Facility Latitude</th>\n",
              "      <th>Facility Longitude</th>\n",
              "      <th>Landing Location</th>\n",
              "      <th>Apogee</th>\n",
              "      <th>Distance Travelled</th>\n",
              "      <th>Confirmation Status</th>\n",
              "      <th>Test Outcome</th>\n",
              "      <th>Additional Information</th>\n",
              "      <th>Source(s)</th>\n",
              "    </tr>\n",
              "  </thead>\n",
              "  <tbody>\n",
              "    <tr>\n",
              "      <th>0</th>\n",
              "      <td>1</td>\n",
              "      <td>9-Apr-84</td>\n",
              "      <td>23-Dec-16</td>\n",
              "      <td>NaN</td>\n",
              "      <td>Scud-B</td>\n",
              "      <td>SRBM</td>\n",
              "      <td>NaN</td>\n",
              "      <td>Tonghae Satellite Launching Ground</td>\n",
              "      <td>Hwadae County, North Hamgyong Province</td>\n",
              "      <td>Musudan-ri</td>\n",
              "      <td>40.8499966</td>\n",
              "      <td>129.666664</td>\n",
              "      <td>Unknown</td>\n",
              "      <td>Unknown</td>\n",
              "      <td>Unknown</td>\n",
              "      <td>Confirmed</td>\n",
              "      <td>Success</td>\n",
              "      <td>First known test by North Korea of a missile w...</td>\n",
              "      <td>http://www.nti.org/media/pdfs/north_korea_miss...</td>\n",
              "    </tr>\n",
              "    <tr>\n",
              "      <th>1</th>\n",
              "      <td>2</td>\n",
              "      <td>9-Apr-84</td>\n",
              "      <td>23-Dec-16</td>\n",
              "      <td>NaN</td>\n",
              "      <td>Scud-B</td>\n",
              "      <td>SRBM</td>\n",
              "      <td>NaN</td>\n",
              "      <td>Tonghae Satellite Launching Ground</td>\n",
              "      <td>Hwadae County, North Hamgyong Province</td>\n",
              "      <td>Musudan-ri</td>\n",
              "      <td>40.8499966</td>\n",
              "      <td>129.666664</td>\n",
              "      <td>Unknown</td>\n",
              "      <td>Unknown</td>\n",
              "      <td>Unknown</td>\n",
              "      <td>Confirmed</td>\n",
              "      <td>Success</td>\n",
              "      <td>NaN</td>\n",
              "      <td>http://www.nti.org/media/pdfs/north_korea_miss...</td>\n",
              "    </tr>\n",
              "    <tr>\n",
              "      <th>2</th>\n",
              "      <td>3</td>\n",
              "      <td>9-Apr-84</td>\n",
              "      <td>23-Dec-16</td>\n",
              "      <td>NaN</td>\n",
              "      <td>Scud-B</td>\n",
              "      <td>SRBM</td>\n",
              "      <td>NaN</td>\n",
              "      <td>Tonghae Satellite Launching Ground</td>\n",
              "      <td>Hwadae County, North Hamgyong Province</td>\n",
              "      <td>Musudan-ri</td>\n",
              "      <td>40.8499966</td>\n",
              "      <td>129.666664</td>\n",
              "      <td>Unknown</td>\n",
              "      <td>200 km</td>\n",
              "      <td>Unknown</td>\n",
              "      <td>Confirmed</td>\n",
              "      <td>Success</td>\n",
              "      <td>NaN</td>\n",
              "      <td>http://www.astronautix.com/g/gitdaeryung.html;...</td>\n",
              "    </tr>\n",
              "    <tr>\n",
              "      <th>3</th>\n",
              "      <td>4</td>\n",
              "      <td>Sep-84</td>\n",
              "      <td>23-Dec-16</td>\n",
              "      <td>NaN</td>\n",
              "      <td>Scud-B</td>\n",
              "      <td>SRBM</td>\n",
              "      <td>NaN</td>\n",
              "      <td>Tonghae Satellite Launching Ground</td>\n",
              "      <td>Hwadae County, North Hamgyong Province</td>\n",
              "      <td>Musudan-ri</td>\n",
              "      <td>40.8499966</td>\n",
              "      <td>129.666664</td>\n",
              "      <td>Unknown</td>\n",
              "      <td>Unknown</td>\n",
              "      <td>Unknown</td>\n",
              "      <td>Confirmed</td>\n",
              "      <td>Failure</td>\n",
              "      <td>NaN</td>\n",
              "      <td>Joseph S. Bermudez, \"A History of Ballistic Mi...</td>\n",
              "    </tr>\n",
              "    <tr>\n",
              "      <th>4</th>\n",
              "      <td>5</td>\n",
              "      <td>Sep-84</td>\n",
              "      <td>23-Dec-16</td>\n",
              "      <td>NaN</td>\n",
              "      <td>Scud-B</td>\n",
              "      <td>SRBM</td>\n",
              "      <td>NaN</td>\n",
              "      <td>Tonghae Satellite Launching Ground</td>\n",
              "      <td>Hwadae County, North Hamgyong Province</td>\n",
              "      <td>Musudan-ri</td>\n",
              "      <td>40.8499966</td>\n",
              "      <td>129.666664</td>\n",
              "      <td>Unknown</td>\n",
              "      <td>200 km</td>\n",
              "      <td>Unknown</td>\n",
              "      <td>Confirmed</td>\n",
              "      <td>Failure</td>\n",
              "      <td>NaN</td>\n",
              "      <td>http://www.astronautix.com/g/gitdaeryung.html;...</td>\n",
              "    </tr>\n",
              "  </tbody>\n",
              "</table>\n",
              "</div>\n",
              "    <div class=\"colab-df-buttons\">\n",
              "\n",
              "  <div class=\"colab-df-container\">\n",
              "    <button class=\"colab-df-convert\" onclick=\"convertToInteractive('df-0a089134-e614-44d4-926f-350c82f2f288')\"\n",
              "            title=\"Convert this dataframe to an interactive table.\"\n",
              "            style=\"display:none;\">\n",
              "\n",
              "  <svg xmlns=\"http://www.w3.org/2000/svg\" height=\"24px\" viewBox=\"0 -960 960 960\">\n",
              "    <path d=\"M120-120v-720h720v720H120Zm60-500h600v-160H180v160Zm220 220h160v-160H400v160Zm0 220h160v-160H400v160ZM180-400h160v-160H180v160Zm440 0h160v-160H620v160ZM180-180h160v-160H180v160Zm440 0h160v-160H620v160Z\"/>\n",
              "  </svg>\n",
              "    </button>\n",
              "\n",
              "  <style>\n",
              "    .colab-df-container {\n",
              "      display:flex;\n",
              "      gap: 12px;\n",
              "    }\n",
              "\n",
              "    .colab-df-convert {\n",
              "      background-color: #E8F0FE;\n",
              "      border: none;\n",
              "      border-radius: 50%;\n",
              "      cursor: pointer;\n",
              "      display: none;\n",
              "      fill: #1967D2;\n",
              "      height: 32px;\n",
              "      padding: 0 0 0 0;\n",
              "      width: 32px;\n",
              "    }\n",
              "\n",
              "    .colab-df-convert:hover {\n",
              "      background-color: #E2EBFA;\n",
              "      box-shadow: 0px 1px 2px rgba(60, 64, 67, 0.3), 0px 1px 3px 1px rgba(60, 64, 67, 0.15);\n",
              "      fill: #174EA6;\n",
              "    }\n",
              "\n",
              "    .colab-df-buttons div {\n",
              "      margin-bottom: 4px;\n",
              "    }\n",
              "\n",
              "    [theme=dark] .colab-df-convert {\n",
              "      background-color: #3B4455;\n",
              "      fill: #D2E3FC;\n",
              "    }\n",
              "\n",
              "    [theme=dark] .colab-df-convert:hover {\n",
              "      background-color: #434B5C;\n",
              "      box-shadow: 0px 1px 3px 1px rgba(0, 0, 0, 0.15);\n",
              "      filter: drop-shadow(0px 1px 2px rgba(0, 0, 0, 0.3));\n",
              "      fill: #FFFFFF;\n",
              "    }\n",
              "  </style>\n",
              "\n",
              "    <script>\n",
              "      const buttonEl =\n",
              "        document.querySelector('#df-0a089134-e614-44d4-926f-350c82f2f288 button.colab-df-convert');\n",
              "      buttonEl.style.display =\n",
              "        google.colab.kernel.accessAllowed ? 'block' : 'none';\n",
              "\n",
              "      async function convertToInteractive(key) {\n",
              "        const element = document.querySelector('#df-0a089134-e614-44d4-926f-350c82f2f288');\n",
              "        const dataTable =\n",
              "          await google.colab.kernel.invokeFunction('convertToInteractive',\n",
              "                                                    [key], {});\n",
              "        if (!dataTable) return;\n",
              "\n",
              "        const docLinkHtml = 'Like what you see? Visit the ' +\n",
              "          '<a target=\"_blank\" href=https://colab.research.google.com/notebooks/data_table.ipynb>data table notebook</a>'\n",
              "          + ' to learn more about interactive tables.';\n",
              "        element.innerHTML = '';\n",
              "        dataTable['output_type'] = 'display_data';\n",
              "        await google.colab.output.renderOutput(dataTable, element);\n",
              "        const docLink = document.createElement('div');\n",
              "        docLink.innerHTML = docLinkHtml;\n",
              "        element.appendChild(docLink);\n",
              "      }\n",
              "    </script>\n",
              "  </div>\n",
              "\n",
              "\n",
              "<div id=\"df-c6016c5e-e200-4fd3-a4f1-b491503cf786\">\n",
              "  <button class=\"colab-df-quickchart\" onclick=\"quickchart('df-c6016c5e-e200-4fd3-a4f1-b491503cf786')\"\n",
              "            title=\"Suggest charts.\"\n",
              "            style=\"display:none;\">\n",
              "\n",
              "<svg xmlns=\"http://www.w3.org/2000/svg\" height=\"24px\"viewBox=\"0 0 24 24\"\n",
              "     width=\"24px\">\n",
              "    <g>\n",
              "        <path d=\"M19 3H5c-1.1 0-2 .9-2 2v14c0 1.1.9 2 2 2h14c1.1 0 2-.9 2-2V5c0-1.1-.9-2-2-2zM9 17H7v-7h2v7zm4 0h-2V7h2v10zm4 0h-2v-4h2v4z\"/>\n",
              "    </g>\n",
              "</svg>\n",
              "  </button>\n",
              "\n",
              "<style>\n",
              "  .colab-df-quickchart {\n",
              "      --bg-color: #E8F0FE;\n",
              "      --fill-color: #1967D2;\n",
              "      --hover-bg-color: #E2EBFA;\n",
              "      --hover-fill-color: #174EA6;\n",
              "      --disabled-fill-color: #AAA;\n",
              "      --disabled-bg-color: #DDD;\n",
              "  }\n",
              "\n",
              "  [theme=dark] .colab-df-quickchart {\n",
              "      --bg-color: #3B4455;\n",
              "      --fill-color: #D2E3FC;\n",
              "      --hover-bg-color: #434B5C;\n",
              "      --hover-fill-color: #FFFFFF;\n",
              "      --disabled-bg-color: #3B4455;\n",
              "      --disabled-fill-color: #666;\n",
              "  }\n",
              "\n",
              "  .colab-df-quickchart {\n",
              "    background-color: var(--bg-color);\n",
              "    border: none;\n",
              "    border-radius: 50%;\n",
              "    cursor: pointer;\n",
              "    display: none;\n",
              "    fill: var(--fill-color);\n",
              "    height: 32px;\n",
              "    padding: 0;\n",
              "    width: 32px;\n",
              "  }\n",
              "\n",
              "  .colab-df-quickchart:hover {\n",
              "    background-color: var(--hover-bg-color);\n",
              "    box-shadow: 0 1px 2px rgba(60, 64, 67, 0.3), 0 1px 3px 1px rgba(60, 64, 67, 0.15);\n",
              "    fill: var(--button-hover-fill-color);\n",
              "  }\n",
              "\n",
              "  .colab-df-quickchart-complete:disabled,\n",
              "  .colab-df-quickchart-complete:disabled:hover {\n",
              "    background-color: var(--disabled-bg-color);\n",
              "    fill: var(--disabled-fill-color);\n",
              "    box-shadow: none;\n",
              "  }\n",
              "\n",
              "  .colab-df-spinner {\n",
              "    border: 2px solid var(--fill-color);\n",
              "    border-color: transparent;\n",
              "    border-bottom-color: var(--fill-color);\n",
              "    animation:\n",
              "      spin 1s steps(1) infinite;\n",
              "  }\n",
              "\n",
              "  @keyframes spin {\n",
              "    0% {\n",
              "      border-color: transparent;\n",
              "      border-bottom-color: var(--fill-color);\n",
              "      border-left-color: var(--fill-color);\n",
              "    }\n",
              "    20% {\n",
              "      border-color: transparent;\n",
              "      border-left-color: var(--fill-color);\n",
              "      border-top-color: var(--fill-color);\n",
              "    }\n",
              "    30% {\n",
              "      border-color: transparent;\n",
              "      border-left-color: var(--fill-color);\n",
              "      border-top-color: var(--fill-color);\n",
              "      border-right-color: var(--fill-color);\n",
              "    }\n",
              "    40% {\n",
              "      border-color: transparent;\n",
              "      border-right-color: var(--fill-color);\n",
              "      border-top-color: var(--fill-color);\n",
              "    }\n",
              "    60% {\n",
              "      border-color: transparent;\n",
              "      border-right-color: var(--fill-color);\n",
              "    }\n",
              "    80% {\n",
              "      border-color: transparent;\n",
              "      border-right-color: var(--fill-color);\n",
              "      border-bottom-color: var(--fill-color);\n",
              "    }\n",
              "    90% {\n",
              "      border-color: transparent;\n",
              "      border-bottom-color: var(--fill-color);\n",
              "    }\n",
              "  }\n",
              "</style>\n",
              "\n",
              "  <script>\n",
              "    async function quickchart(key) {\n",
              "      const quickchartButtonEl =\n",
              "        document.querySelector('#' + key + ' button');\n",
              "      quickchartButtonEl.disabled = true;  // To prevent multiple clicks.\n",
              "      quickchartButtonEl.classList.add('colab-df-spinner');\n",
              "      try {\n",
              "        const charts = await google.colab.kernel.invokeFunction(\n",
              "            'suggestCharts', [key], {});\n",
              "      } catch (error) {\n",
              "        console.error('Error during call to suggestCharts:', error);\n",
              "      }\n",
              "      quickchartButtonEl.classList.remove('colab-df-spinner');\n",
              "      quickchartButtonEl.classList.add('colab-df-quickchart-complete');\n",
              "    }\n",
              "    (() => {\n",
              "      let quickchartButtonEl =\n",
              "        document.querySelector('#df-c6016c5e-e200-4fd3-a4f1-b491503cf786 button');\n",
              "      quickchartButtonEl.style.display =\n",
              "        google.colab.kernel.accessAllowed ? 'block' : 'none';\n",
              "    })();\n",
              "  </script>\n",
              "</div>\n",
              "    </div>\n",
              "  </div>\n"
            ]
          },
          "metadata": {},
          "execution_count": 10
        }
      ]
    },
    {
      "cell_type": "code",
      "source": [
        "y = df[\"Missile Name\"]\n",
        "x = df.drop(\"Missile Name\", axis =1)"
      ],
      "metadata": {
        "id": "JDIdzyLwQ0Tx"
      },
      "execution_count": null,
      "outputs": []
    },
    {
      "cell_type": "code",
      "source": [
        "#Randomly split the data set into traing and test test"
      ],
      "metadata": {
        "id": "gtKSBIsgRevj"
      },
      "execution_count": null,
      "outputs": []
    },
    {
      "cell_type": "code",
      "source": [
        "X_train, X_test, Y_train, Y_test = train_test_split (x, y, test_size = 0.2, random_state =31)"
      ],
      "metadata": {
        "id": "NVkbR1xERm6E"
      },
      "execution_count": null,
      "outputs": []
    },
    {
      "cell_type": "code",
      "source": [
        "X_train, X_val, Y_train, Y_val = train_test_split (X_train, Y_train, test_size = 0.25, random_state =31)"
      ],
      "metadata": {
        "id": "-Z1p4G7fTQVo"
      },
      "execution_count": null,
      "outputs": []
    },
    {
      "cell_type": "code",
      "source": [
        "#60% of the original data has been split as training, 20% as validation and 20% as testing set"
      ],
      "metadata": {
        "id": "XnZaFJDiTfXT"
      },
      "execution_count": null,
      "outputs": []
    },
    {
      "cell_type": "code",
      "source": [
        "print(len(X_train))\n",
        "print(len(X_test))\n",
        "print(len(Y_train))\n",
        "print(len(Y_test))\n",
        "print(len(X_val))\n",
        "print(len(Y_val))"
      ],
      "metadata": {
        "colab": {
          "base_uri": "https://localhost:8080/"
        },
        "id": "fvpDU-HmTqbq",
        "outputId": "d8ce92b5-5cce-4654-a7fa-efe527a7d2a7"
      },
      "execution_count": null,
      "outputs": [
        {
          "output_type": "stream",
          "name": "stdout",
          "text": [
            "81\n",
            "27\n",
            "81\n",
            "27\n",
            "27\n",
            "27\n"
          ]
        }
      ]
    },
    {
      "cell_type": "markdown",
      "source": [
        "### How does it work\n",
        "\n",
        "1. Start by reading the dataset, consisting of  historical and continuing missile experiments in North korea. Aim to predict the type of missile based on the remaining features, such as facility and time of launch\n",
        "\n",
        "2. we apply the sklearn train_test_split method to subdivide X and Y into training set, X_Train, Y_train and also testing set X_test, Y_test. The test_size = 0.3 parameter means that the testing set consist of 20% of the original data while the remainder is placed in the training set. the random_state parameter allows us to reproduce the same randomly generated split\n",
        "\n",
        "3. we often compare several different models. the danger of using the testing set is to select the best model is that we may end up over fitting the testing set. This is similar to the statistical sin of data fishing. In order to solve this problem we need to create an additional data called validation dataset.  "
      ],
      "metadata": {
        "id": "3AUtBAtOULiG"
      }
    },
    {
      "cell_type": "code",
      "source": [],
      "metadata": {
        "id": "UgM_b12XTwUo"
      },
      "execution_count": null,
      "outputs": []
    }
  ]
}